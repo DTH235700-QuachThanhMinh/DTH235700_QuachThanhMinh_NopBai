{
  "nbformat": 4,
  "nbformat_minor": 0,
  "metadata": {
    "colab": {
      "provenance": [],
      "authorship_tag": "ABX9TyNMPfMLcw7H8o19jWGpSqjD",
      "include_colab_link": true
    },
    "kernelspec": {
      "name": "python3",
      "display_name": "Python 3"
    },
    "language_info": {
      "name": "python"
    }
  },
  "cells": [
    {
      "cell_type": "markdown",
      "metadata": {
        "id": "view-in-github",
        "colab_type": "text"
      },
      "source": [
        "<a href=\"https://colab.research.google.com/github/DTH235700-QuachThanhMinh/DTH235700_QuachThanhMinh_NopBai/blob/main/Ch%C6%B0%C6%A1ng2.ipynb\" target=\"_parent\"><img src=\"https://colab.research.google.com/assets/colab-badge.svg\" alt=\"Open In Colab\"/></a>"
      ]
    },
    {
      "cell_type": "code",
      "execution_count": 8,
      "metadata": {
        "colab": {
          "base_uri": "https://localhost:8080/"
        },
        "id": "qWnbzXDmDZxQ",
        "outputId": "fe90bb2c-2d94-4385-a8b0-bde5395879ba"
      },
      "outputs": [
        {
          "output_type": "stream",
          "name": "stdout",
          "text": [
            "Mời bạn nhập bán kính hình tròn: 4\n",
            "Chu vi =  25.132741228718345\n",
            "Diện tích =  16.0\n"
          ]
        }
      ],
      "source": [
        "#Câu1\n",
        "import math\n",
        "try:\n",
        " r=float(input(\"Mời bạn nhập bán kính hình tròn: \"))\n",
        " cv=2*math.pi*r\n",
        " dt=r**2\n",
        " print(\"Chu vi = \",cv)\n",
        " print(\"Diện tích = \",dt)\n",
        "except:\n",
        " print(\"Lỗi rồi!\")"
      ]
    },
    {
      "cell_type": "code",
      "source": [
        "#câu2\n",
        "t = int(input(\"Nhập số: \"))\n",
        "gio = (t//3600)%24\n",
        "phut =  (t%3600)//60\n",
        "giay = (t%3600)%60\n",
        "print(gio,\"gio\",phut,\"phut\",giay,\"giay\")"
      ],
      "metadata": {
        "colab": {
          "base_uri": "https://localhost:8080/"
        },
        "id": "inYf9sBaEN0r",
        "outputId": "9e9b669d-e42e-4385-f176-47cce5be0680"
      },
      "execution_count": 12,
      "outputs": [
        {
          "output_type": "stream",
          "name": "stdout",
          "text": [
            "Nhập số: 17500\n",
            "4 gio 51 phut 40 giay\n"
          ]
        }
      ]
    },
    {
      "cell_type": "code",
      "source": [
        "#câu3\n",
        "toan=float(input(\"Nhập điểm Toán:\"))\n",
        "ly=float(input(\"Nhập điểm lý:\"))\n",
        "hoa=float(input(\"Nhập điểm hóa:\"))\n",
        "dtb=(toan+ly+hoa)/3\n",
        "print(\"Điểm trung bình = \",dtb)\n",
        "print(\"Điểm trung bình sau khi làm tròn = \",round(dtb,2))"
      ],
      "metadata": {
        "colab": {
          "base_uri": "https://localhost:8080/"
        },
        "id": "uUbD9PXkFXIv",
        "outputId": "40c86988-93cf-4d8b-d928-e836e18fafb0"
      },
      "execution_count": 15,
      "outputs": [
        {
          "output_type": "stream",
          "name": "stdout",
          "text": [
            "Nhập điểm Toán:7.6\n",
            "Nhập điểm lý:9.3\n",
            "Nhập điểm hóa:6.4\n",
            "Điểm trung bình =  7.766666666666666\n",
            "Điểm trung bình sau khi làm tròn =  7.77\n"
          ]
        }
      ]
    },
    {
      "cell_type": "code",
      "source": [
        "#câu4 Các kiểu dữ liệu cơ bản trong Python gồm: int, float, complex, str, list, tuple, dict, set, bool."
      ],
      "metadata": {
        "id": "TYw9F6rZFsA8"
      },
      "execution_count": null,
      "outputs": []
    },
    {
      "cell_type": "code",
      "source": [
        "#câu5\n",
        "#Ghi chú một dòng: dùng #\n",
        "#Ghi chú nhiều dòng: dùng nhiều dấu # hoặc chuỗi nhiều dòng ''' ... '''/\"\"\" ... \"\"\"\n",
        "#Ghi chú tài liệu (docstring): dùng ba dấu nháy đơn hoặc nháy kép ngay sau khai báo hàm/lớp/module."
      ],
      "metadata": {
        "id": "Hc6TpsXKGTyn"
      },
      "execution_count": null,
      "outputs": []
    },
    {
      "cell_type": "code",
      "source": [
        "#câu6\n",
        "\"\"\"\n",
        "- Các toán tử số học:\n",
        "1. / (Phép chia thông thường);\n",
        "2. // (Phép chia lấy phần nguyên - Floor Division);\n",
        "3. % (Phép chia lấy dư - Modulus);\n",
        "4. ** (Lũy thừa - Exponentiation);\n",
        "- and, or là các toán tử logic.\n",
        "- is là toán tử kiểm tra danh tính đối tượng (identity).\n",
        "\"\"\""
      ],
      "metadata": {
        "id": "nWw8J1X9G1fj"
      },
      "execution_count": null,
      "outputs": []
    },
    {
      "cell_type": "code",
      "source": [
        "#câu7\n",
        "\"\"\"\n",
        "Dùng input() để nhập dữ liệu từ bàn phím.\n",
        "Kết hợp với int(), float() để chuyển đổi kiểu dữ liệu.\n",
        "Sử dụng split() để nhập nhiều giá trị trên một dòng.\n",
        "Sử dụng list comprehension để nhập danh sách dữ liệu.\n",
        "\"\"\""
      ],
      "metadata": {
        "id": "DQ3njQGDHz-Q"
      },
      "execution_count": null,
      "outputs": []
    },
    {
      "cell_type": "code",
      "source": [
        "#câu8\n",
        "\"\"\"\n",
        "Các loại lỗi: Cú pháp, khi chạy chương trình, logic.\n",
        "Cách bắt lỗi: Dùng try-except, có thể kết hợp else và finally, bắt nhiều lỗi, chủ động phát sinh lỗi với raise.\n",
        "\"\"\""
      ],
      "metadata": {
        "id": "kPJXtfkRISSJ"
      },
      "execution_count": null,
      "outputs": []
    },
    {
      "cell_type": "code",
      "source": [
        "#câu9\n",
        "\"\"\"\n",
        "(a) i1 + (i2 * i3)\n",
        "\n",
        "Tính trong ngoặc trước:\n",
        "i2 * i3 = 5 * (-3) = -15\n",
        "Sau đó cộng với i1:\n",
        "2 + (-15) = -13\n",
        "Kết quả: -13\n",
        "\n",
        "(b) i1 * (i2 + i3)\n",
        "\n",
        "Tính trong ngoặc trước:\n",
        "i2 + i3 = 5 + (-3) = 2\n",
        "Sau đó nhân với i1:\n",
        "2 * 2 = 4\n",
        "Kết quả: 4\n",
        "\n",
        "(c) i1 / (i2 + i3)\n",
        "\n",
        "Tính trong ngoặc trước:\n",
        "i2 + i3 = 5 + (-3) = 2\n",
        "Sau đó chia:\n",
        "2 / 2 = 1.0 (Kết quả là số thực do phép chia /)\n",
        "Kết quả: 1.0\n",
        "\n",
        "(d) i1 // (i2 + i3)\n",
        "\n",
        "Tính trong ngoặc:\n",
        "i2 + i3 = 2\n",
        "Chia lấy phần nguyên:\n",
        "2 // 2 = 1\n",
        "Kết quả: 1\n",
        "\n",
        "(e) i1 / i2 + i3\n",
        "\n",
        "Chia trước vì / ưu tiên hơn cộng:\n",
        "2 / 5 = 0.4\n",
        "Sau đó cộng với i3:\n",
        "0.4 + (-3) = -2.6\n",
        "Kết quả: -2.6\n",
        "\n",
        "(f) i1 // i2 + i3\n",
        "\n",
        "Chia lấy phần nguyên trước:\n",
        "2 // 5 = 0\n",
        "Sau đó cộng với i3:\n",
        "0 + (-3) = -3\n",
        "Kết quả: -3\n",
        "\n",
        "(g) 3 + 4 + 5 / 3\n",
        "\n",
        "Chia trước:\n",
        "5 / 3 ≈ 1.6667\n",
        "Tổng:\n",
        "3 + 4 + 1.6667 = 7 + 1.6667 = 8.6667\n",
        "Kết quả: 8.6667\n",
        "\n",
        "(h) 3 + 4 + 5 // 3\n",
        "\n",
        "Chia lấy phần nguyên trước:\n",
        "5 // 3 = 1\n",
        "Tổng:\n",
        "3 + 4 + 1 = 8\n",
        "Kết quả: 8\n",
        "\n",
        "(i) (3 + 4 + 5) / 3\n",
        "\n",
        "Tính trong ngoặc:\n",
        "3 + 4 + 5 = 12\n",
        "Chia:\n",
        "12 / 3 = 4.0\n",
        "Kết quả: 4.0\n",
        "\n",
        "(j) (3 + 4 + 5) // 3\n",
        "\n",
        "Tính trong ngoặc:\n",
        "3 + 4 + 5 = 12\n",
        "Chia lấy phần nguyên:\n",
        "12 // 3 = 4\n",
        "Kết quả: 4\n",
        "\n",
        "(k) d1 + (d2 * d3)\n",
        "\n",
        "Tính trong ngoặc:\n",
        "d2 * d3 = 5.0 * (-0.5) = -2.5\n",
        "Cộng với d1:\n",
        "2.0 + (-2.5) = -0.5\n",
        "Kết quả: -0.5\n",
        "\n",
        "(l) d1 + d2 * d3\n",
        "\n",
        "Phép nhân ưu tiên trước:\n",
        "d2 * d3 = 5.0 * (-0.5) = -2.5\n",
        "Cộng với d1:\n",
        "2.0 + (-2.5) = -0.5\n",
        "Kết quả: -0.5\n",
        "\n",
        "(m) d1 / d2 - d3\n",
        "\n",
        "Chia trước:\n",
        "2.0 / 5.0 = 0.4\n",
        "Trừ số âm (tức là cộng):\n",
        "0.4 - (-0.5) = 0.4 + 0.5 = 0.9\n",
        "Kết quả: 0.9\n",
        "\n",
        "(n) d1 / (d2 - d3)\n",
        "\n",
        "Trong ngoặc:\n",
        "d2 - d3 = 5.0 - (-0.5) = 5.0 + 0.5 = 5.5\n",
        "Chia:\n",
        "2.0 / 5.5 ≈ 0.3636\n",
        "Kết quả: 0.3636\n",
        "\n",
        "(o) d1 + d2 + d3 / 3\n",
        "\n",
        "Chia trước:\n",
        "d3 / 3 = -0.5 / 3 ≈ -0.1667\n",
        "Tổng:\n",
        "2.0 + 5.0 + (-0.1667) = 7.0 - 0.1667 ≈ 6.8333\n",
        "Kết quả: 6.8333\n",
        "\n",
        "(p) (d1 + d2 + d3) / 3\n",
        "\n",
        "Trong ngoặc:\n",
        "2.0 + 5.0 + (-0.5) = 6.5\n",
        "Chia:\n",
        "6.5 / 3 ≈ 2.1667\n",
        "Kết quả: 2.1667\n",
        "\n",
        "(q) d1 + d2 + (d3 / 3)\n",
        "\n",
        "Trong ngoặc:\n",
        "d3 / 3 ≈ -0.1667\n",
        "Tổng:\n",
        "2.0 + 5.0 + (-0.1667) = 7.0 - 0.1667 ≈ 6.8333\n",
        "Kết quả: 6.8333\n",
        "\n",
        "(r) 3 * (d1 + d2) * (d1 - d3)\n",
        "\n",
        "Tính từng ngoặc:\n",
        "d1 + d2 = 2.0 + 5.0 = 7.0\n",
        "d1 - d3 = 2.0 - (-0.5) = 2.0 + 0.5 = 2.5\n",
        "Nhân:\n",
        "3 * 7.0 = 21.0\n",
        "21.0 * 2.5 = 52.5\n",
        "Kết quả: 52.5\n",
        "\"\"\""
      ],
      "metadata": {
        "id": "4xRXwuovI97F"
      },
      "execution_count": null,
      "outputs": []
    },
    {
      "cell_type": "code",
      "source": [
        "#câu10\n",
        "\"\"\"\n",
        "(a) x = x + 1\n",
        "→ x += 1\n",
        "\n",
        "(b) x = x / 2\n",
        "→ x /= 2\n",
        "\n",
        "(c) x = x - 1\n",
        "→ x -= 1\n",
        "\n",
        "(d) x = x + y\n",
        "→ x += y\n",
        "\n",
        "(e) x = x - (y + 7)\n",
        "→ x -= (y + 7)\n",
        "\n",
        "(f) x = 2*x\n",
        "→ x *= 2\n",
        "\n",
        "(g) number_of_closed_cases = number_of_closed_cases + 2*ncc\n",
        "→ number_of_closed_cases += 2*ncc\n",
        "\"\"\""
      ],
      "metadata": {
        "id": "j4abqj8ZLBcI"
      },
      "execution_count": null,
      "outputs": []
    }
  ]
}