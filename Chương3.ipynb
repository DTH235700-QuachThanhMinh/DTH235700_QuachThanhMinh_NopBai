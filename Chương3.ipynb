{
  "cells": [
    {
      "cell_type": "markdown",
      "metadata": {
        "id": "view-in-github",
        "colab_type": "text"
      },
      "source": [
        "<a href=\"https://colab.research.google.com/github/DTH235700-QuachThanhMinh/DTH235700_QuachThanhMinh_NopBai/blob/main/Ch%C6%B0%C6%A1ng3.ipynb\" target=\"_parent\"><img src=\"https://colab.research.google.com/assets/colab-badge.svg\" alt=\"Open In Colab\"/></a>"
      ]
    },
    {
      "cell_type": "code",
      "execution_count": null,
      "metadata": {
        "id": "wn6ukqllYD3h"
      },
      "outputs": [],
      "source": [
        "#Câu 1:\n",
        "print(\"Kiểm tra năm nhuần\")\n",
        "year = int(input(\"Hãy nhập vào 1 năm: \"))\n",
        "if (year % 4 ==0 and year % 100 != 0) or year % 400 == 0:\n",
        " print(\"Năm \", year, \" là năm nhuần\")\n",
        "else:\n",
        " print(\"Năm \", year, \" là năm không nhuần\")"
      ]
    },
    {
      "cell_type": "code",
      "execution_count": null,
      "metadata": {
        "id": "A1bg0gsyYYrA"
      },
      "outputs": [],
      "source": [
        "#Câu 2:\n",
        "print(\"Đếm số ngày trong tháng\")\n",
        "month = int(input(\"Hãy nhập vào một tháng: \"))\n",
        "if month in (1,3,5,7,8,10,12):\n",
        "  print(\"Tháng \", month, \" có 31 ngày\")\n",
        "elif month in (4,6,9,11):\n",
        "  print(\"Tháng \", month, \" có 30 ngày\")\n",
        "elif month == 2:\n",
        "  year = int(input(\"Hãy nhập vào 1 năm: \"))\n",
        "  if (year % 4 ==0 and year % 100 != 0) or year % 400 == 0:\n",
        "    print(\"Tháng \", month, \" có 29 ngày\")\n",
        "  else:\n",
        "    print(\"Tháng \", month, \" có 28 ngày\")\n",
        "else:\n",
        " print(\"Tháng \", month, \" không hợp lệ\")"
      ]
    },
    {
      "cell_type": "code",
      "execution_count": null,
      "metadata": {
        "id": "_Ao0ZviAdJ34"
      },
      "outputs": [],
      "source": [
        "#Câu 3:\n",
        "from math import sqrt\n",
        "print(\"Giải phương trình bậc 2\")\n",
        "a = float(input(\"Nhập hệ số a: \"))\n",
        "b = float(input(\"Nhập hệ số b: \"))\n",
        "c = float(input(\"Nhập hệ số c: \"))\n",
        "if a == 0:\n",
        "  if b == 0 and c == 0:\n",
        "    print(\"Phương trình có vô số nghiệm\")\n",
        "  elif b == 0 and c != 0:\n",
        "    print(\"Phương trình vô nghiệm\")\n",
        "  else:\n",
        "    print(\"Phương trình có một nghiệm x = \", -c/b)\n",
        "else:\n",
        "  delta = b**2 - 4*a*c\n",
        "  if delta < 0:\n",
        "    print(\"Phương trình vô nghiệm\")\n",
        "  elif delta == 0:\n",
        "    print(\"Phương trình có một nghiệm kép x1 = x2 = \",-b/(2*a))\n",
        "  else:\n",
        "    print(\"Phương trình có hai nghiệm phân biệt\")\n",
        "    print(\"x1 = \", (-b - sqrt(delta))/(2*a))\n",
        "    print(\"x2 = \", (-b + sqrt(delta))/(2*a))"
      ]
    },
    {
      "cell_type": "code",
      "execution_count": null,
      "metadata": {
        "id": "jISVcB8ihkfw"
      },
      "outputs": [],
      "source": [
        "#Câu 4:\n",
        "x, y, z = 3, 5, 7\n",
        "print(\"x == 3            :\", x == 3)\n",
        "print(\"x < y             :\", x < y)\n",
        "print(\"x >= y            :\", x >= y)\n",
        "print(\"x <= y            :\", x <= y)\n",
        "print(\"x != y - 2        :\", x != y - 2)\n",
        "print(\"x < 10            :\", x < 10)\n",
        "print(\"x >= 0 and x < 10 :\", x >= 0 and x < 10)\n",
        "print(\"x < 0 and x < 10  :\", x < 0 and x < 10)\n",
        "print(\"x >= 0 and x < 2  :\", x >= 0 and x < 2)\n",
        "print(\"x < 0 or x < 10   :\", x < 0 or x < 10)\n",
        "print(\"x > 0 or x < 10   :\", x > 0 or x < 10)\n",
        "print(\"x < 0 or x > 10   :\", x < 0 or x > 10)"
      ]
    },
    {
      "cell_type": "code",
      "execution_count": null,
      "metadata": {
        "id": "c4oC1UVZjNRn"
      },
      "outputs": [],
      "source": [
        "#Câu 5:\n",
        "def solve(i, j, k):\n",
        "  if i < j:\n",
        "    if j < k:\n",
        "        i = j\n",
        "    else:\n",
        "        j = k\n",
        "  else:\n",
        "    if j > k:\n",
        "        j = i\n",
        "    else:\n",
        "        i = k\n",
        "  print(\"i= \", i, \" j=\", j, \" k=\", k)\n",
        "\n",
        "solve (3, 5, 7)\n",
        "solve (3, 7, 5)\n",
        "solve (5, 3, 7)\n",
        "solve (5, 7, 3)\n",
        "solve (7, 3, 5)\n",
        "solve (7, 5, 3)"
      ]
    },
    {
      "cell_type": "code",
      "execution_count": null,
      "metadata": {
        "id": "fa27637a"
      },
      "outputs": [],
      "source": [
        "#Câu 6:\n",
        "def docso(n):\n",
        "    if not (0 <= n <= 99):\n",
        "        return \"Số không hợp lệ (chỉ hỗ trợ số từ 0 đến 99)\"\n",
        "\n",
        "    donvi = [\"\", \"một\", \"hai\", \"ba\", \"bốn\", \"năm\", \"sáu\", \"bảy\", \"tám\", \"chín\"]\n",
        "    chuc = [\"\", \"mười\", \"hai mươi\", \"ba mươi\", \"bốn mươi\", \"năm mươi\", \"sáu mươi\", \"bảy mươi\", \"tám mươi\", \"chín mươi\"]\n",
        "\n",
        "    if n < 10:\n",
        "        return donvi[n]\n",
        "    elif n < 20:\n",
        "        if n == 10:\n",
        "            return \"mười\"\n",
        "        elif n == 15:\n",
        "            return \"mười lăm\"\n",
        "        else:\n",
        "            return \"mười \" + donvi[n % 10]\n",
        "    else:\n",
        "        hangchuc = n // 10\n",
        "        hangdonvi = n % 10\n",
        "        if hangdonvi == 0:\n",
        "            return chuc[hangchuc]\n",
        "        elif hangdonvi == 1:\n",
        "            return chuc[hangchuc] + \" mốt\"\n",
        "        elif hangdonvi == 5:\n",
        "             return chuc[hangchuc] + \" lăm\"\n",
        "        else:\n",
        "            return chuc[hangchuc] + \" \" + donvi[hangdonvi]\n",
        "\n",
        "n = int(input(\"Nhập một số có tối đa 2 chữ số: \"))\n",
        "print(\"Cách đọc số {n} là: \", docso(n))"
      ]
    },
    {
      "cell_type": "code",
      "execution_count": null,
      "metadata": {
        "id": "eba8fb00"
      },
      "outputs": [],
      "source": [
        "#Câu 7:\n",
        "\n",
        "def năm_nhuần(năm):\n",
        "    \"\"\"Kiểm tra năm nhuần.\"\"\"\n",
        "    return (năm % 4 == 0 and năm % 100 != 0) or (năm % 400 == 0)\n",
        "\n",
        "def ngày_kế_tiếp(ngày, tháng, năm):\n",
        "   \"\"\"Tìm ngày kế tiếp.\"\"\"\n",
        "   ngày_trong_tháng = [0, 31, 28, 31, 30, 31, 30, 31, 31, 30, 31, 30, 31]\n",
        "   if năm_nhuần(năm):\n",
        "      ngày_trong_tháng[2] = 29\n",
        "   if 1 <= tháng <= 12 and 1 <= ngày <= ngày_trong_tháng[tháng]:\n",
        "      ngày += 1\n",
        "      if ngày > ngày_trong_tháng[tháng]:\n",
        "         ngày = 1\n",
        "         tháng += 1\n",
        "      if tháng > 12:\n",
        "         tháng = 1\n",
        "         năm += 1\n",
        "      return f\"{ngày}/{tháng}/{năm}\"\n",
        "   else:\n",
        "      return \"Ngày không hợp lệ\"\n",
        "\n",
        "ngày = int(input(\"Nhập ngày: \"))\n",
        "tháng = int(input(\"Nhập tháng: \"))\n",
        "năm = int(input(\"Nhập năm: \"))\n",
        "\n",
        "print(\"Ngày kế tiếp là: \", ngày_kế_tiếp(ngày, tháng, năm))"
      ]
    },
    {
      "cell_type": "code",
      "execution_count": null,
      "metadata": {
        "id": "L4kNwZV5qX6-"
      },
      "outputs": [],
      "source": [
        "#Câu 8:\n",
        "print(\"Nhập vào giá trị 2 số a,b\")\n",
        "a = float(input(\"Nhập số a: \"))\n",
        "b = float(input(\"Nhập số b: \"))\n",
        "pheptoan = input(\"Nhập một phép toán (+,-,*,/): \")\n",
        "if pheptoan == \"+\":\n",
        "  print(\"a + b = \", a+b)\n",
        "elif pheptoan == \"-\":\n",
        "  print(\"a - b = \", a-b)\n",
        "elif pheptoan == \"*\":\n",
        "  print(\"a * b = \", a*b)\n",
        "elif pheptoan == \"/\":\n",
        "  if b == 0:\n",
        "    print(\"Không thể chia cho 0\")\n",
        "  else:\n",
        "    print(\"a / b = \", a/b)\n",
        "else:\n",
        "    print(\"Phép toán không hợp lệ\")\n",
        "\n",
        "\n",
        "\n"
      ]
    },
    {
      "cell_type": "code",
      "execution_count": null,
      "metadata": {
        "id": "thIBokrIqYAN"
      },
      "outputs": [],
      "source": [
        "#Câu 9:\n",
        "print(\"Kiểm tra quý\")\n",
        "month = int(input(\"Nhập vào một tháng (1-12): \"))\n",
        "if 1 <= month <= 3:\n",
        "  quy = 1\n",
        "elif 4 <= month <= 6:\n",
        "  quy = 2\n",
        "elif 7 <= month <= 9:\n",
        "  quy = 3\n",
        "elif 10 <= month <= 12:\n",
        "  quy = 4\n",
        "else:\n",
        "  quy = \"không hợp lệ\"\n",
        "print(\"Tháng \", month, \" thuộc quý\", quy)\n",
        "\n"
      ]
    },
    {
      "cell_type": "code",
      "execution_count": null,
      "metadata": {
        "id": "T48koR6ByA2L"
      },
      "outputs": [],
      "source": [
        "#Câu 10:\n",
        "x = int(input(\"Nhập x:\"))\n",
        "n = int(input(\"Nhập N:\"))\n",
        "s = 0\n",
        "for i in range(1,n+1):\n",
        " tu = x**i\n",
        " mau = 1\n",
        " for j in range(1,i+1):\n",
        "  mau = mau*j\n",
        " s = s+(tu/mau)\n",
        "print(\"s({0},{1})={2}\".format(x,n,s))"
      ]
    },
    {
      "cell_type": "code",
      "execution_count": null,
      "metadata": {
        "id": "yj3LNvki1yVM"
      },
      "outputs": [],
      "source": [
        "#Câu 11:\n",
        "while True:\n",
        " n = int(input(\"Nhập 1 số nguyên dương: \"))\n",
        " dem = 0\n",
        " for i in range(1,n+1):\n",
        "  if n % i == 0 :\n",
        "     dem+=1\n",
        " if dem == 2:\n",
        "    print(n,\"Là số nguyên tố\")\n",
        " else:\n",
        "    print(n,\"Không là số nguyên tố\")\n",
        " hoi = input(\"Tiếp tục?(c/k):\")\n",
        " if hoi is \"k\":\n",
        "    break\n",
        "print(\"BYE!\")"
      ]
    },
    {
      "cell_type": "code",
      "execution_count": null,
      "metadata": {
        "id": "rqeE79X45G7g"
      },
      "outputs": [],
      "source": [
        "#Câu 12:\n",
        "for i in range(1,11):\n",
        " for j in range(2,10):\n",
        "  line=\"{0}*{1:>2}={2:>2}\".format(j,i,i*j)\n",
        "  print(line,end='\\t\\t')\n",
        " print()\n"
      ]
    },
    {
      "cell_type": "code",
      "source": [
        "#Câu 13:\n",
        "\"\"\"\n",
        "Biến a khởi tạo bằng 0 và điều kiện của vòng lặp while là a < 100 (điều kiện đúng vì 0 < 100).\n",
        "Tuy nhiên, biến a không được cập nhật bên trong vòng lặp.\n",
        "Điều này dẫn đến một vòng lặp vô hạn và sẽ liên tục in ra dấu '*' mà không dừng lại.\n",
        "\"\"\"\n",
        "\n",
        "a = 0\n",
        "while a < 100:\n",
        "  print('*', end='')\n",
        "print()"
      ],
      "metadata": {
        "id": "oP-_jFKG_Cgd"
      },
      "execution_count": null,
      "outputs": []
    },
    {
      "cell_type": "code",
      "source": [
        "#Câu 14:\n",
        "\"\"\"\n",
        "Khi a là số chẵn (50 lần): Dấu '*' được in ra khi b cũng là số chẵn.\n",
        "=> Có 20 giá trị chẵn của b. Số dấu '*' in trong trường hợp này là 50 * 20 = 1000.\n",
        "Khi a là số lẻ (50 lần): Dấu '*' được in ra khi b cũng là số lẻ.\n",
        "=> Có 20 giá trị lẻ của b. Số dấu '*' in trong trường hợp này là 50 * 20 = 1000.\n",
        "Tổng số dấu '*' được in ra là 1000 + 1000 = 2000.\n",
        "\"\"\"\n",
        "\n",
        "a = 0\n",
        "while  a < 100:\n",
        "  b = 0\n",
        "  while b < 40:\n",
        "    if (a + b) % 2 == 0:\n",
        "      print('*', end='')\n",
        "    b += 1\n",
        "  print()\n",
        "  a += 1"
      ],
      "metadata": {
        "id": "m5m_4mj9ACSK"
      },
      "execution_count": null,
      "outputs": []
    },
    {
      "cell_type": "code",
      "source": [
        "#Câu 15:\n",
        "\"\"\"\n",
        "(a) range(5): Tạo ra một dãy số bắt đầu từ 0 (mặc định) và kết thúc trước 5.\n",
        "=> Dãy số: 0, 1, 2, 3, 4.\n",
        "\n",
        "(b) range(5, 10): Tạo ra một dãy số bắt đầu từ 5 và kết thúc trước 10.\n",
        "=> Dãy số: 5, 6, 7, 8, 9.\n",
        "\n",
        "(c) range(5, 20, 3): Tạo ra một dãy số bắt đầu từ 5, kết thúc trước 20, với bước nhảy là 3.\n",
        "=> Dãy số: 5, 8, 11, 14, 17.\n",
        "\n",
        "(d) range(20, 5, -1): Tạo ra một dãy số bắt đầu từ 20, kết thúc trước 5, với bước nhảy là -1 (đếm lùi).\n",
        "=> Dãy số: 20, 19, 18, 17, 16, 15, 14, 13, 12, 11, 10, 9, 8, 7, 6.\n",
        "\n",
        "(e) range(20, 5, -3): Tạo ra một dãy số bắt đầu từ 20, kết thúc trước 5, với bước nhảy là -3 (đếm lùi).\n",
        "=> Dãy số: 20, 17, 14, 11, 8.\n",
        "\n",
        "(f) range(10, 5): Tạo ra một dãy số bắt đầu từ 10 và kết thúc trước 5. Vì số bắt đầu lớn hơn số kết thúc và bước nhảy mặc định là dương, dãy số sẽ rỗng.\n",
        "=> Dãy số: (rỗng).\n",
        "\n",
        "(g) range(0): Tạo ra một dãy số bắt đầu từ 0 và kết thúc trước 0. Dãy số sẽ rỗng.\n",
        "=> Dãy số: (rỗng).\n",
        "\n",
        "(h) range(10, 101, 10): Tạo ra một dãy số bắt đầu từ 10, kết thúc trước 101, với bước nhảy là 10.\n",
        "=> Dãy số: 10, 20, 30, 40, 50, 60, 70, 80, 90, 100.\n",
        "\n",
        "(i) range(10, -1, -1): Tạo ra một dãy số bắt đầu từ 10, kết thúc trước -1, với bước nhảy là -1.\n",
        "=> Dãy số: 10, 9, 8, 7, 6, 5, 4, 3, 2, 1, 0.\n",
        "\n",
        "(j) range(-3, 4): Tạo ra một dãy số bắt đầu từ -3 và kết thúc trước 4 (bước nhảy mặc định là 1).\n",
        "=> Dãy số: -3, -2, -1, 0, 1, 2, 3.\n",
        "\n",
        "(k) range(0, 10, 1): Tạo ra một dãy số bắt đầu từ 0, kết thúc trước 10, với bước nhảy là 1.\n",
        "=> Dãy số: 0, 1, 2, 3, 4, 5, 6, 7, 8, 9.\n",
        "\"\"\"\n",
        "\n",
        "ranges = {\n",
        "    \"a\": range(5),\n",
        "    \"b\": range(5, 10),\n",
        "    \"c\": range(5, 20, 3),\n",
        "    \"d\": range(20, 5, -1),\n",
        "    \"e\": range(20, 5, -3),\n",
        "    \"f\": range(10, 5),\n",
        "    \"g\": range(0),\n",
        "    \"h\": range(10, 101, 10),\n",
        "    \"i\": range(10, -1, -1),\n",
        "    \"j\": range(-3, 4),\n",
        "    \"k\": range(0, 10, 1),\n",
        "}\n",
        "\n",
        "for key, r in ranges.items():\n",
        "    print(f\"{key}: {list(r)}\")\n"
      ],
      "metadata": {
        "id": "03T-QjRAEs_o"
      },
      "execution_count": null,
      "outputs": []
    },
    {
      "cell_type": "code",
      "source": [
        "#Câu 16:\n",
        "\"\"\"\n",
        "range(20, 100, 5): tạo ra một dãy số bắt đầu từ 20, kết thúc trước 100, với bước nhảy là 5.\n",
        "Các số trong dãy sẽ là: 20, 25, 30, 35, 40, 45, 50, 55, 60, 65, 70, 75, 80, 85, 90, 95.\n",
        "Đếm các số này, ta có 16 số.\n",
        "Vòng lặp for sẽ lặp lại 16 lần, và mỗi lần lặp, nó sẽ in ra một dấu '*'.\n",
        "Do đó, có 16 dấu '*' được in ra màn hình.\n",
        "\"\"\"\n",
        "\n",
        "for a in range (20, 100, 5):\n",
        "    print('*', end='')\n",
        "print()"
      ],
      "metadata": {
        "id": "xx8SJPPkFy_i"
      },
      "execution_count": null,
      "outputs": []
    },
    {
      "cell_type": "code",
      "source": [
        "#Câu 17:\n",
        "n, m = 0, 100\n",
        "while n != m:\n",
        "    n = int(input(\"Nhập số: \"))\n",
        "    if n < 0:\n",
        "       break\n",
        "    print(\"n =\", n)"
      ],
      "metadata": {
        "id": "ifcur8QgKADo"
      },
      "execution_count": null,
      "outputs": []
    },
    {
      "cell_type": "code",
      "source": [
        "#Câu 18:\n",
        "while True:\n",
        "    n = int(input(\"Nhập chiều cao n (số dương): \"))\n",
        "    if n > 0:\n",
        "        break\n",
        "    else:\n",
        "        print(\"n phải là số dương. Vui lòng nhập lại.\")\n",
        "\n",
        "\n",
        "\n",
        "print(\"Hình 1: \")\n",
        "for i in range(n):\n",
        "    for j in range(n):\n",
        "        if i == 0 or i == n - 1 or j == 0 or j == n - 1:\n",
        "            print(\"*\", end=\" \")\n",
        "        else:\n",
        "            print(\" \", end=\" \")\n",
        "    print()\n",
        "\n",
        "\n",
        "\n",
        "print(\"Hình 2: \")\n",
        "for i in range(n):\n",
        "    for j in range(n - i - 1):\n",
        "        print(\" \", end=\" \")\n",
        "    for k in range(i + 1):\n",
        "        print(\"*\", end=\" \")\n",
        "    print()\n",
        "\n",
        "\n",
        "\n",
        "n = int(input(\"Nhập chiều cao n (n = 3): \"))\n",
        "space = 2\n",
        "print(\"Hình 3: \")\n",
        "# nửa trên:\n",
        "for i in range(n):\n",
        "    print(\"*\", end=\"\")\n",
        "    if i > 0:\n",
        "        print(\" \" * (space * i - (space - 1)), end=\"\")\n",
        "        print(\"*\", end=\"\")\n",
        "    print()\n",
        "\n",
        "# hàng giữa:\n",
        "for i in range(2 * n + 1):\n",
        "        print(\"*\" + \" \" * (space - 1),end=\"\")\n",
        "print()\n",
        "\n",
        "# nửa dưới:\n",
        "for i in range(n):\n",
        "    print(\" \" * ((space + 2) * (n - 1) + i * (space - 1) + i * (space - 1)), end=\"\")\n",
        "    print(\"*\", end=\"\")\n",
        "    if i < n - 1:\n",
        "        print(\" \" * (space * (n - i - 1) - (space - 1)), end=\"\")\n",
        "        print(\"*\", end=\"\")\n",
        "    print()"
      ],
      "metadata": {
        "id": "B557fWUhS2TJ",
        "colab": {
          "base_uri": "https://localhost:8080/"
        },
        "outputId": "3006196a-5838-4656-e6bf-6652aef93e2d"
      },
      "execution_count": 154,
      "outputs": [
        {
          "output_type": "stream",
          "name": "stdout",
          "text": [
            "Nhập chiều cao n (số dương): 4\n",
            "Hình 1: \n",
            "* * * * \n",
            "*     * \n",
            "*     * \n",
            "* * * * \n",
            "Hình 2: \n",
            "      * \n",
            "    * * \n",
            "  * * * \n",
            "* * * * \n",
            "Nhập chiều cao n (n = 3): 3\n",
            "Hình 3: \n",
            "*\n",
            "* *\n",
            "*   *\n",
            "* * * * * * * \n",
            "        *   *\n",
            "          * *\n",
            "            *\n"
          ]
        }
      ]
    },
    {
      "cell_type": "code",
      "metadata": {
        "id": "179564a3"
      },
      "source": [
        "#Câu 19:\n",
        "import math\n",
        "\n",
        "def tinhtong_s(x, n):\n",
        "  tong = 0\n",
        "  for i in range(n + 1):\n",
        "    tuso = x**(2 * i + 1)\n",
        "    mauso = math.factorial(2 * i + 1)\n",
        "    tong += tuso / mauso\n",
        "  return tong\n",
        "\n",
        "x = float(input(\"Nhập giá trị của x: \"))\n",
        "n = int(input(\"Nhập giá trị của n (số nguyên dương): \"))\n",
        "\n",
        "ketqua = tinhtong_s(x, n)\n",
        "print(f\"Tổng S({x}, {n}) = {ketqua}\")"
      ],
      "execution_count": null,
      "outputs": []
    }
  ],
  "metadata": {
    "colab": {
      "provenance": [],
      "authorship_tag": "ABX9TyNb0j9Wl/Wq/Wof+cZsboUP",
      "include_colab_link": true
    },
    "kernelspec": {
      "display_name": "Python 3",
      "name": "python3"
    },
    "language_info": {
      "name": "python"
    }
  },
  "nbformat": 4,
  "nbformat_minor": 0
}