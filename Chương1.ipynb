{
  "nbformat": 4,
  "nbformat_minor": 0,
  "metadata": {
    "colab": {
      "provenance": [],
      "authorship_tag": "ABX9TyOIbJJVRRFK9VBDbYbu1MHh",
      "include_colab_link": true
    },
    "kernelspec": {
      "name": "python3",
      "display_name": "Python 3"
    },
    "language_info": {
      "name": "python"
    }
  },
  "cells": [
    {
      "cell_type": "markdown",
      "metadata": {
        "id": "view-in-github",
        "colab_type": "text"
      },
      "source": [
        "<a href=\"https://colab.research.google.com/github/DTH235700-QuachThanhMinh/DTH235700_QuachThanhMinh_NopBai/blob/main/Ch%C6%B0%C6%A1ng1.ipynb\" target=\"_parent\"><img src=\"https://colab.research.google.com/assets/colab-badge.svg\" alt=\"Open In Colab\"/></a>"
      ]
    },
    {
      "cell_type": "code",
      "execution_count": null,
      "metadata": {
        "colab": {
          "base_uri": "https://localhost:8080/"
        },
        "id": "R5gl1XhESnSU",
        "outputId": "0c2b97ce-efac-4a02-ea24-4ed439bff5bd"
      },
      "outputs": [
        {
          "output_type": "stream",
          "name": "stdout",
          "text": [
            "Viết mã chương trình\n"
          ]
        }
      ],
      "source": [
        "print(\"Viết mã chương trình\")"
      ]
    },
    {
      "cell_type": "code",
      "source": [
        "print(\"Hello World!\")"
      ],
      "metadata": {
        "colab": {
          "base_uri": "https://localhost:8080/"
        },
        "id": "VlEzSDs-TNDZ",
        "outputId": "ffc5e7af-edbb-4ea2-d424-a0670c6796f0"
      },
      "execution_count": null,
      "outputs": [
        {
          "output_type": "stream",
          "name": "stdout",
          "text": [
            "Hello World!\n"
          ]
        }
      ]
    },
    {
      "cell_type": "code",
      "source": [
        "print('Albert Einstein đã từng nói: Một người không bao giờ mắc sai lầm không bao giờ thử bất kỳ điều gì mới.')"
      ],
      "metadata": {
        "colab": {
          "base_uri": "https://localhost:8080/"
        },
        "id": "9zenRAkpTcvo",
        "outputId": "15ded866-0b9c-48ae-b09c-68d9c6d5b1c2"
      },
      "execution_count": null,
      "outputs": [
        {
          "output_type": "stream",
          "name": "stdout",
          "text": [
            "Albert Einstein đã từng nói: Một người không bao giờ mắc sai lầm không bao giờ thử bất kỳ điều gì mới.\n"
          ]
        }
      ]
    },
    {
      "cell_type": "code",
      "source": [
        "# module1.py\n",
        "module1_question = 'What is the meaning of Life, the Universe and Everything?'\n",
        "module1_answer = 42\n",
        "\n",
        "# module2.py\n",
        "module2_question =  'What is your quest?'\n",
        "module2_answer = 'To seek the holy grail.'\n",
        "\n",
        "print(module1_question)\n",
        "print(module2_question)\n",
        "print(module1_answer)\n",
        "print(module2_answer)"
      ],
      "metadata": {
        "colab": {
          "base_uri": "https://localhost:8080/"
        },
        "id": "dPvC8T4nVTr8",
        "outputId": "b2426419-8cb0-4cd9-f446-3ae3cfc341dc"
      },
      "execution_count": null,
      "outputs": [
        {
          "output_type": "stream",
          "name": "stdout",
          "text": [
            "What is the meaning of Life, the Universe and Everything?\n",
            "What is your quest?\n",
            "42\n",
            "To seek the holy grail.\n"
          ]
        }
      ]
    },
    {
      "cell_type": "code",
      "source": [
        "print(\"Chao cac ban !\")"
      ],
      "metadata": {
        "colab": {
          "base_uri": "https://localhost:8080/"
        },
        "id": "eXDBIFByYRiF",
        "outputId": "64f7adad-6e08-421c-8f5d-c7d69e2edc5c"
      },
      "execution_count": null,
      "outputs": [
        {
          "output_type": "stream",
          "name": "stdout",
          "text": [
            "Chao cac ban !\n"
          ]
        }
      ]
    },
    {
      "cell_type": "code",
      "source": [
        "print(\"Nguyễn Văn A\")"
      ],
      "metadata": {
        "colab": {
          "base_uri": "https://localhost:8080/"
        },
        "id": "32X3Zl88YYn7",
        "outputId": "ad15cc0c-a7dd-4dc2-8da7-ce3558af3d9f"
      },
      "execution_count": null,
      "outputs": [
        {
          "output_type": "stream",
          "name": "stdout",
          "text": [
            "Nguyễn Văn A\n"
          ]
        }
      ]
    },
    {
      "cell_type": "code",
      "source": [
        "print(\" Mình về mình có nhớ ta? \\n Mười lăm năm ấy thiết tha mặn nồng. \\n Mình về mình có nhớ không? \\n Nhìn cây nhớ núi nhìn sông nhớ nguồn.\")"
      ],
      "metadata": {
        "colab": {
          "base_uri": "https://localhost:8080/"
        },
        "id": "qZlCZGicYyz_",
        "outputId": "ebb679c9-e180-4c91-f215-ec4ec7cdf6a4"
      },
      "execution_count": null,
      "outputs": [
        {
          "output_type": "stream",
          "name": "stdout",
          "text": [
            " Mình về mình có nhớ ta? \n",
            " Mười lăm năm ấy thiết tha mặn nồng. \n",
            " Mình về mình có nhớ không? \n",
            " Nhìn cây nhớ núi nhìn sông nhớ nguồn.\n"
          ]
        }
      ]
    },
    {
      "cell_type": "code",
      "source": [
        "print(\"Xin chào\")"
      ],
      "metadata": {
        "colab": {
          "base_uri": "https://localhost:8080/"
        },
        "id": "HThZjeXmZ4LQ",
        "outputId": "03847302-bc72-436d-aa6c-c744a7177b1c"
      },
      "execution_count": null,
      "outputs": [
        {
          "output_type": "stream",
          "name": "stdout",
          "text": [
            "Xin chào\n"
          ]
        }
      ]
    },
    {
      "cell_type": "code",
      "source": [
        "print(\"****\\n*  *\\n*  *\\n****\")"
      ],
      "metadata": {
        "colab": {
          "base_uri": "https://localhost:8080/"
        },
        "id": "HEiH1U1UbXdm",
        "outputId": "d0f0e657-094b-4a7c-cd64-b3acb56ccbdb"
      },
      "execution_count": null,
      "outputs": [
        {
          "output_type": "stream",
          "name": "stdout",
          "text": [
            "****\n",
            "*  *\n",
            "*  *\n",
            "****\n"
          ]
        }
      ]
    },
    {
      "cell_type": "code",
      "source": [
        "print(\"*********\\n*********\\n*********\\n*********\")"
      ],
      "metadata": {
        "colab": {
          "base_uri": "https://localhost:8080/"
        },
        "id": "Wt8E9ZZ-bk9x",
        "outputId": "43ea487c-6cf9-4742-a048-5ab0e0fd163c"
      },
      "execution_count": null,
      "outputs": [
        {
          "output_type": "stream",
          "name": "stdout",
          "text": [
            "*********\n",
            "*********\n",
            "*********\n",
            "*********\n"
          ]
        }
      ]
    },
    {
      "cell_type": "code",
      "source": [
        "print(\"      *     \\n     ***    \\n   *******  \\n     ***    \\n    *****   \\n ***********\\n     * *    \\n     * *    \")"
      ],
      "metadata": {
        "colab": {
          "base_uri": "https://localhost:8080/"
        },
        "id": "RI-R7Di5bvJf",
        "outputId": "a65bf259-dc6b-4dcc-f691-d5d57745b001"
      },
      "execution_count": null,
      "outputs": [
        {
          "output_type": "stream",
          "name": "stdout",
          "text": [
            "      *     \n",
            "     ***    \n",
            "   *******  \n",
            "     ***    \n",
            "    *****   \n",
            " ***********\n",
            "     * *    \n",
            "     * *    \n"
          ]
        }
      ]
    },
    {
      "cell_type": "code",
      "source": [
        "# Chương trình tính tổng hai số\n",
        "\n",
        "# Nhập hai số từ bàn phím\n",
        "so1 = int(input(\"Nhập số thứ nhất: \"))\n",
        "so2 = int(input(\"Nhập số thứ hai: \"))\n",
        "\n",
        "# Tính tổng\n",
        "tong = so1 + so2\n",
        "\n",
        "# Hiển thị kết quả\n",
        "print(\"Tổng hai số là: \", tong)"
      ],
      "metadata": {
        "colab": {
          "base_uri": "https://localhost:8080/"
        },
        "id": "Ipwz-CMOdXyk",
        "outputId": "ff96cf06-1df4-48e9-af2b-28b8ea263fb2"
      },
      "execution_count": null,
      "outputs": [
        {
          "output_type": "stream",
          "name": "stdout",
          "text": [
            "Nhập số thứ nhất: 2\n",
            "Nhập số thứ hai: 4\n",
            "Tổng hai số là:  6\n"
          ]
        }
      ]
    }
  ]
}